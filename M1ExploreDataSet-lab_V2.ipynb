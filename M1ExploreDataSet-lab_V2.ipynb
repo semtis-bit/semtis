{
  "metadata": {
    "kernelspec": {
      "name": "python",
      "display_name": "Python (Pyodide)",
      "language": "python"
    },
    "language_info": {
      "codemirror_mode": {
        "name": "python",
        "version": 3
      },
      "file_extension": ".py",
      "mimetype": "text/x-python",
      "name": "python",
      "nbconvert_exporter": "python",
      "pygments_lexer": "ipython3",
      "version": "3.8"
    },
    "prev_pub_hash": "75f9cbe799d7bcd81dfecdbcf1653c6ad01ca54b63272be450af5e5346a76987"
  },
  "nbformat_minor": 4,
  "nbformat": 4,
  "cells": [
    {
      "cell_type": "markdown",
      "source": "<p style=\"text-align:center\">\n    <a href=\"https://skills.network\" target=\"_blank\">\n    <img src=\"https://cf-courses-data.s3.us.cloud-object-storage.appdomain.cloud/assets/logos/SN_web_lightmode.png\" width=\"200\" alt=\"Skills Network Logo\"  />\n    </a>\n</p>\n",
      "metadata": {}
    },
    {
      "cell_type": "markdown",
      "source": "# **Lab: Exploring the Dataset**\n",
      "metadata": {}
    },
    {
      "cell_type": "markdown",
      "source": "Estimated time needed: **30** minutes\n",
      "metadata": {}
    },
    {
      "cell_type": "markdown",
      "source": "## Introduction\n",
      "metadata": {}
    },
    {
      "cell_type": "markdown",
      "source": "Data exploration is the initial phase of data analysis where we aim to understand the data's characteristics, identify patterns, and uncover potential insights. It is a crucial step that helps us make informed decisions about subsequent analysis.\n",
      "metadata": {}
    },
    {
      "cell_type": "markdown",
      "source": "## Objectives\n",
      "metadata": {}
    },
    {
      "cell_type": "markdown",
      "source": "After completing this lab, you will be able to:\n",
      "metadata": {}
    },
    {
      "cell_type": "markdown",
      "source": "-   Summarize the key characteristics of a dataset.\n-   Identify different data types commonly used in data analysis.\n",
      "metadata": {}
    },
    {
      "cell_type": "markdown",
      "source": "### Install the required library\n",
      "metadata": {}
    },
    {
      "cell_type": "code",
      "source": "import micropip\n\nawait micropip.install('pandas')\n\n# Import pandas after installation\nimport pandas as pd\nprint(pd.__version__)",
      "metadata": {
        "trusted": true
      },
      "outputs": [
        {
          "name": "stderr",
          "text": "<ipython-input-1-4a848102c67d>:6: DeprecationWarning: \nPyarrow will become a required dependency of pandas in the next major release of pandas (pandas 3.0),\n(to allow more performant data types, such as the Arrow string type, and better interoperability with other libraries)\nbut was not found to be installed on your system.\nIf this would cause problems for you,\nplease provide us feedback at https://github.com/pandas-dev/pandas/issues/54466\n        \n  import pandas as pd\n",
          "output_type": "stream"
        },
        {
          "name": "stdout",
          "text": "2.2.0\n",
          "output_type": "stream"
        }
      ],
      "execution_count": 1
    },
    {
      "cell_type": "markdown",
      "source": "## Load the dataset\n",
      "metadata": {}
    },
    {
      "cell_type": "markdown",
      "source": "<h3>Read Data</h3>\n<p>\nWe utilize the <code>pandas.read_csv()</code> function for reading CSV files. However, in this version of the lab, which operates on JupyterLite, the dataset needs to be downloaded to the interface using the provided code below.\n</p>\n",
      "metadata": {}
    },
    {
      "cell_type": "markdown",
      "source": "The functions below will download the dataset into your browser:\n",
      "metadata": {}
    },
    {
      "cell_type": "code",
      "source": "from pyodide.http import pyfetch\n\nasync def download(url, filename):\n    response = await pyfetch(url)\n    if response.status == 200:\n        with open(filename, \"wb\") as f:\n            f.write(await response.bytes())",
      "metadata": {
        "trusted": true
      },
      "outputs": [],
      "execution_count": 1
    },
    {
      "cell_type": "code",
      "source": "file_path = \"https://cf-courses-data.s3.us.cloud-object-storage.appdomain.cloud/n01PQ9pSmiRX6520flujwQ/survey-data.csv\"",
      "metadata": {
        "trusted": true
      },
      "outputs": [],
      "execution_count": 2
    },
    {
      "cell_type": "markdown",
      "source": "To obtain the dataset, utilize the download() function as defined above:  \n",
      "metadata": {}
    },
    {
      "cell_type": "code",
      "source": "await download(file_path, \"survey_data.csv\")\nfile_name=\"survey_data.csv\"",
      "metadata": {
        "trusted": true
      },
      "outputs": [],
      "execution_count": null
    },
    {
      "cell_type": "markdown",
      "source": "Utilize the Pandas method read_csv() to load the data into a dataframe.\n",
      "metadata": {}
    },
    {
      "cell_type": "code",
      "source": "df = pd.read_csv(file_name)",
      "metadata": {
        "trusted": true
      },
      "outputs": [],
      "execution_count": null
    },
    {
      "cell_type": "markdown",
      "source": "> Note: This version of the lab is working on JupyterLite, which requires the dataset to be downloaded to the interface.While working on the downloaded version of this notebook on their local machines(Jupyter Anaconda), the learners can simply **skip the steps above,** and simply use the URL directly in the `pandas.read_csv()` function. You can uncomment and run the statements in the cell below.\n",
      "metadata": {}
    },
    {
      "cell_type": "markdown",
      "source": "# Hands on Lab\n",
      "metadata": {}
    },
    {
      "cell_type": "markdown",
      "source": "## Explore the dataset\n",
      "metadata": {}
    },
    {
      "cell_type": "markdown",
      "source": "It is a good idea to print the top 5 rows of the dataset to get a feel of how the dataset will look.\n",
      "metadata": {}
    },
    {
      "cell_type": "markdown",
      "source": "Display the top 5 rows and columns from your dataset.\n",
      "metadata": {}
    },
    {
      "cell_type": "code",
      "source": "import requests\nimport pandas as pd\nimport io  # Import the io module\n\n# --- Download the dataset (using requests) ---\nfile_path = \"https://cf-courses-data.s3.us.cloud-object-storage.appdomain.cloud/n01PQ9pSmiRX6520flujwQ/survey-data.csv\"\n\ntry:\n    response = requests.get(file_path)\n    response.raise_for_status()  # Raise an exception for bad status codes\n    # Use io.StringIO to create a file-like object from the response text\n    csv_data = io.StringIO(response.text)\n    df = pd.read_csv(csv_data)\n\nexcept requests.exceptions.RequestException as e:\n    print(f\"Error downloading or reading the file: {e}\")\n    exit()\n\n# --- Print the datatype of all columns ---\nprint(\"Data types of all columns:\\n\", df.dtypes)\n\n# --- Print the number of rows ---\nprint(f\"\\nNumber of rows in the DataFrame: {len(df)}\")  # or df.shape[0]\n\n# --- Print the mean age of the survey participants ---\n# Handle potential errors (e.g., non-numeric data in 'Age' column)\ntry:\n    # Attempt to convert 'Age' to numeric, handling errors\n    # This is a SIMPLIFIED example and may need adjustment\n    # based on the specific values in your 'Age' column.\n    age_mapping = {\n        'Under 18 years old': 16,  # Example mapping\n        '18-24 years old': 21,\n        '25-34 years old': 29.5,\n        '35-44 years old': 39.5,\n        '45-54 years old': 49.5,\n        '55-64 years old': 59.5,\n        '65 years or older': 70,  # Example mapping\n        'Prefer not to say': None  # Handle \"Prefer not to say\"\n    }\n    df['Age_Numeric'] = df['Age'].map(age_mapping)\n    mean_age = df['Age_Numeric'].mean()\n    print(f\"\\nMean age of participants: {mean_age:.2f}\")  # Format to 2 decimal places\n\nexcept KeyError:\n    print(\"\\nError: 'Age' column not found in the DataFrame.\")\nexcept TypeError as e:\n    print(f\"\\nError calculating mean age: {e}\")\n    print(\"The 'Age' column likely contains non-numeric data.\")\n\n# --- Print the number of unique countries ---\n# Handle potential errors (e.g., 'Country' column not existing)\ntry:\n    unique_countries = df['Country'].nunique()\n    print(f\"\\nNumber of unique countries: {unique_countries}\")\nexcept KeyError:\n    print(\"\\nError: 'Country' column not found in the DataFrame.\")\n\n# --- Show first 5 rows\nprint(\"\\nFirst 5 rows of the DataFrame:\")\nprint(df.head())",
      "metadata": {
        "trusted": true
      },
      "outputs": [
        {
          "name": "stdout",
          "text": "Data types of all columns:\n ResponseId               int64\nMainBranch              object\nAge                     object\nEmployment              object\nRemoteWork              object\n                        ...   \nJobSatPoints_11        float64\nSurveyLength            object\nSurveyEase              object\nConvertedCompYearly    float64\nJobSat                 float64\nLength: 114, dtype: object\n\nNumber of rows in the DataFrame: 65437\n\nMean age of participants: 33.01\n\nNumber of unique countries: 185\n\nFirst 5 rows of the DataFrame:\n   ResponseId                      MainBranch                 Age  \\\n0           1  I am a developer by profession  Under 18 years old   \n1           2  I am a developer by profession     35-44 years old   \n2           3  I am a developer by profession     45-54 years old   \n3           4           I am learning to code     18-24 years old   \n4           5  I am a developer by profession     18-24 years old   \n\n            Employment RemoteWork   Check  \\\n0  Employed, full-time     Remote  Apples   \n1  Employed, full-time     Remote  Apples   \n2  Employed, full-time     Remote  Apples   \n3   Student, full-time        NaN  Apples   \n4   Student, full-time        NaN  Apples   \n\n                                    CodingActivities  \\\n0                                              Hobby   \n1  Hobby;Contribute to open-source projects;Other...   \n2  Hobby;Contribute to open-source projects;Other...   \n3                                                NaN   \n4                                                NaN   \n\n                                             EdLevel  \\\n0                          Primary/elementary school   \n1     Bachelorâs degree (B.A., B.S., B.Eng., etc.)   \n2  Masterâs degree (M.A., M.S., M.Eng., MBA, etc.)   \n3  Some college/university study without earning ...   \n4  Secondary school (e.g. American high school, G...   \n\n                                           LearnCode  \\\n0                             Books / Physical media   \n1  Books / Physical media;Colleague;On the job tr...   \n2  Books / Physical media;Colleague;On the job tr...   \n3  Other online resources (e.g., videos, blogs, f...   \n4  Other online resources (e.g., videos, blogs, f...   \n\n                                     LearnCodeOnline  ... JobSatPoints_7  \\\n0                                                NaN  ...            NaN   \n1  Technical documentation;Blogs;Books;Written Tu...  ...            0.0   \n2  Technical documentation;Blogs;Books;Written Tu...  ...            NaN   \n3  Stack Overflow;How-to videos;Interactive tutorial  ...            NaN   \n4  Technical documentation;Blogs;Written Tutorial...  ...            NaN   \n\n  JobSatPoints_8 JobSatPoints_9 JobSatPoints_10 JobSatPoints_11  \\\n0            NaN            NaN             NaN             NaN   \n1            0.0            0.0             0.0             0.0   \n2            NaN            NaN             NaN             NaN   \n3            NaN            NaN             NaN             NaN   \n4            NaN            NaN             NaN             NaN   \n\n            SurveyLength SurveyEase ConvertedCompYearly JobSat Age_Numeric  \n0                    NaN        NaN                 NaN    NaN        16.0  \n1                    NaN        NaN                 NaN    NaN        39.5  \n2  Appropriate in length       Easy                 NaN    NaN        49.5  \n3               Too long       Easy                 NaN    NaN        21.0  \n4              Too short       Easy                 NaN    NaN        21.0  \n\n[5 rows x 115 columns]\n",
          "output_type": "stream"
        }
      ],
      "execution_count": 2
    },
    {
      "cell_type": "markdown",
      "source": "## Find out the number of rows and columns\n",
      "metadata": {}
    },
    {
      "cell_type": "markdown",
      "source": "Start by exploring the numbers of rows and columns of data in the dataset.\n",
      "metadata": {}
    },
    {
      "cell_type": "markdown",
      "source": "Print the number of rows in the dataset.\n",
      "metadata": {}
    },
    {
      "cell_type": "code",
      "source": "## Write your code here",
      "metadata": {},
      "outputs": [],
      "execution_count": null
    },
    {
      "cell_type": "markdown",
      "source": "Print the number of columns in the dataset.\n",
      "metadata": {}
    },
    {
      "cell_type": "code",
      "source": "## Write your code here",
      "metadata": {},
      "outputs": [],
      "execution_count": null
    },
    {
      "cell_type": "markdown",
      "source": "## Identify the data types of each column\n",
      "metadata": {}
    },
    {
      "cell_type": "markdown",
      "source": "Explore the dataset and identify the data types of each column.\n",
      "metadata": {}
    },
    {
      "cell_type": "markdown",
      "source": "Print the datatype of all columns.\n",
      "metadata": {}
    },
    {
      "cell_type": "code",
      "source": "## Write your code here",
      "metadata": {},
      "outputs": [],
      "execution_count": null
    },
    {
      "cell_type": "markdown",
      "source": "Print the mean age of the survey participants.\n",
      "metadata": {}
    },
    {
      "cell_type": "code",
      "source": "## Write your code here",
      "metadata": {},
      "outputs": [],
      "execution_count": null
    },
    {
      "cell_type": "markdown",
      "source": "The dataset is the result of a world wide survey. Print how many unique countries are there in the Country column.\n",
      "metadata": {}
    },
    {
      "cell_type": "code",
      "source": "## Write your code here",
      "metadata": {},
      "outputs": [],
      "execution_count": null
    },
    {
      "cell_type": "markdown",
      "source": "Copyright ©  IBM Corporation. All rights reserved.\n",
      "metadata": {}
    }
  ]
}